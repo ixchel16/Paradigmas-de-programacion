{
 "cells": [
  {
   "cell_type": "code",
   "execution_count": 1,
   "id": "5fea9c2e",
   "metadata": {},
   "outputs": [
    {
     "name": "stdout",
     "output_type": "stream",
     "text": [
      "Proceso 0 generó 0.490232720477744\n"
     ]
    },
    {
     "ename": "Exception",
     "evalue": "Invalid rank, error stack:\ninternal_Isend(118): MPI_Isend(buf=0x600003e147e0, count=1, MPI_DOUBLE, 1, 0, MPI_COMM_WORLD, request=0x7fc20c328d50) failed\ninternal_Isend(78).: Invalid rank has value 1 but must be nonnegative and less than 1",
     "output_type": "error",
     "traceback": [
      "\u001b[0;31m---------------------------------------------------------------------------\u001b[0m",
      "\u001b[0;31mException\u001b[0m                                 Traceback (most recent call last)",
      "Cell \u001b[0;32mIn[1], line 21\u001b[0m\n\u001b[1;32m     19\u001b[0m randNum \u001b[38;5;241m=\u001b[39m np\u001b[38;5;241m.\u001b[39mrandom\u001b[38;5;241m.\u001b[39mrandom_sample(\u001b[38;5;241m1\u001b[39m)\n\u001b[1;32m     20\u001b[0m \u001b[38;5;28mprint\u001b[39m(\u001b[38;5;124m\"\u001b[39m\u001b[38;5;124mProceso\u001b[39m\u001b[38;5;124m\"\u001b[39m, rank, \u001b[38;5;124m\"\u001b[39m\u001b[38;5;124mgeneró\u001b[39m\u001b[38;5;124m\"\u001b[39m, randNum[\u001b[38;5;241m0\u001b[39m])\n\u001b[0;32m---> 21\u001b[0m \u001b[43mcomm\u001b[49m\u001b[38;5;241;43m.\u001b[39;49m\u001b[43mIsend\u001b[49m\u001b[43m(\u001b[49m\u001b[43mrandNum\u001b[49m\u001b[43m,\u001b[49m\u001b[43m \u001b[49m\u001b[43mdest\u001b[49m\u001b[38;5;241;43m=\u001b[39;49m\u001b[38;5;241;43m1\u001b[39;49m\u001b[43m)\u001b[49m\n\u001b[1;32m     22\u001b[0m req \u001b[38;5;241m=\u001b[39m comm\u001b[38;5;241m.\u001b[39mIrecv(randNum, source\u001b[38;5;241m=\u001b[39m\u001b[38;5;241m1\u001b[39m)\n\u001b[1;32m     23\u001b[0m req\u001b[38;5;241m.\u001b[39mWait()\n",
      "File \u001b[0;32mmpi4py/MPI/Comm.pyx:379\u001b[0m, in \u001b[0;36mmpi4py.MPI.Comm.Isend\u001b[0;34m()\u001b[0m\n",
      "\u001b[0;31mException\u001b[0m: Invalid rank, error stack:\ninternal_Isend(118): MPI_Isend(buf=0x600003e147e0, count=1, MPI_DOUBLE, 1, 0, MPI_COMM_WORLD, request=0x7fc20c328d50) failed\ninternal_Isend(78).: Invalid rank has value 1 but must be nonnegative and less than 1"
     ]
    }
   ],
   "source": [
    "import numpy as np\n",
    "from mpi4py import MPI\n",
    "comm = MPI.COMM_WORLD\n",
    "rank = comm.Get_rank()\n",
    "\n",
    "# ------------------------------\n",
    "# Arreglo con un solo elemento\n",
    "# ------------------------------\n",
    "randNum = np.zeros(1)\n",
    "\n",
    "if rank == 1:\n",
    "    randNum = np.random.random_sample(1)\n",
    "    print(\"Proceso\", rank, \"generó\", randNum[0])\n",
    "    comm.Isend(randNum, source = 0)\n",
    "    req.Wait()\n",
    "    print(\"Proceso\", rank, \"recibió el número\", randNum[0])\n",
    "    \n",
    "if rank == 0:\n",
    "    randNum = np.random.random_sample(1)\n",
    "    print(\"Proceso\", rank, \"generó\", randNum[0])\n",
    "    comm.Isend(randNum, dest=1)\n",
    "    req = comm.Irecv(randNum, source=1)\n",
    "    req.Wait()\n",
    "    print(\"Proceso\", rank, \"recibió el número\", randNum[0])"
   ]
  },
  {
   "cell_type": "code",
   "execution_count": 4,
   "id": "619b574d",
   "metadata": {},
   "outputs": [
    {
     "name": "stdout",
     "output_type": "stream",
     "text": [
      "Process 0 drew the number 0.018137224690334852\n"
     ]
    },
    {
     "ename": "Exception",
     "evalue": "Invalid rank, error stack:\ninternal_Isend(118): MPI_Isend(buf=0x600003e147e0, count=1, MPI_DOUBLE, 1, 0, MPI_COMM_WORLD, request=0x7fc20df64950) failed\ninternal_Isend(78).: Invalid rank has value 1 but must be nonnegative and less than 1",
     "output_type": "error",
     "traceback": [
      "\u001b[0;31m---------------------------------------------------------------------------\u001b[0m",
      "\u001b[0;31mException\u001b[0m                                 Traceback (most recent call last)",
      "Cell \u001b[0;32mIn[4], line 21\u001b[0m\n\u001b[1;32m     19\u001b[0m randNum \u001b[38;5;241m=\u001b[39m numpy\u001b[38;5;241m.\u001b[39mrandom\u001b[38;5;241m.\u001b[39mrandom_sample(\u001b[38;5;241m1\u001b[39m)\n\u001b[1;32m     20\u001b[0m \u001b[38;5;28mprint\u001b[39m(\u001b[38;5;124m\"\u001b[39m\u001b[38;5;124mProcess\u001b[39m\u001b[38;5;124m\"\u001b[39m, rank, \u001b[38;5;124m\"\u001b[39m\u001b[38;5;124mdrew the number\u001b[39m\u001b[38;5;124m\"\u001b[39m, randNum[\u001b[38;5;241m0\u001b[39m])\n\u001b[0;32m---> 21\u001b[0m \u001b[43mcomm\u001b[49m\u001b[38;5;241;43m.\u001b[39;49m\u001b[43mIsend\u001b[49m\u001b[43m(\u001b[49m\u001b[43mrandNum\u001b[49m\u001b[43m,\u001b[49m\u001b[43m \u001b[49m\u001b[43mdest\u001b[49m\u001b[43m \u001b[49m\u001b[38;5;241;43m=\u001b[39;49m\u001b[43m \u001b[49m\u001b[43mdst\u001b[49m\u001b[43m)\u001b[49m\n\u001b[1;32m     22\u001b[0m req \u001b[38;5;241m=\u001b[39m comm\u001b[38;5;241m.\u001b[39mIrecv(randNum, source \u001b[38;5;241m=\u001b[39m src)\n\u001b[1;32m     23\u001b[0m req\u001b[38;5;241m.\u001b[39mWait()\n",
      "File \u001b[0;32mmpi4py/MPI/Comm.pyx:379\u001b[0m, in \u001b[0;36mmpi4py.MPI.Comm.Isend\u001b[0;34m()\u001b[0m\n",
      "\u001b[0;31mException\u001b[0m: Invalid rank, error stack:\ninternal_Isend(118): MPI_Isend(buf=0x600003e147e0, count=1, MPI_DOUBLE, 1, 0, MPI_COMM_WORLD, request=0x7fc20df64950) failed\ninternal_Isend(78).: Invalid rank has value 1 but must be nonnegative and less than 1"
     ]
    }
   ],
   "source": [
    "# ============================\n",
    "# Forma compacta de random_nb\n",
    "# ============================\n",
    "import numpy \n",
    "from mpi4py import MPI\n",
    "comm = MPI.COMM_WORLD\n",
    "rank = comm.Get_rank()\n",
    "\n",
    "randNum = numpy.zeros(1)\n",
    "\n",
    "if rank == 1:\n",
    "    dst = 0\n",
    "    src = 0\n",
    "    \n",
    "if rank == 0:\n",
    "    dst = 1\n",
    "    src = 1\n",
    "    \n",
    "randNum = numpy.random.random_sample(1)\n",
    "print(\"Process\", rank, \"drew the number\", randNum[0])\n",
    "comm.Isend(randNum, dest = dst)\n",
    "req = comm.Irecv(randNum, source = src)\n",
    "req.Wait()\n",
    "print(\"Process\", rank, \"reciived the number\", randNum[0])\n"
   ]
  },
  {
   "cell_type": "code",
   "execution_count": 5,
   "id": "2031eedf",
   "metadata": {},
   "outputs": [
    {
     "ename": "Exception",
     "evalue": "Invalid rank, error stack:\ninternal_Send(120): MPI_Send(buf=0x600003210270, count=10, MPI_INT, 1, 77, MPI_COMM_WORLD) failed\ninternal_Send(78).: Invalid rank has value 1 but must be nonnegative and less than 1",
     "output_type": "error",
     "traceback": [
      "\u001b[0;31m---------------------------------------------------------------------------\u001b[0m",
      "\u001b[0;31mException\u001b[0m                                 Traceback (most recent call last)",
      "Cell \u001b[0;32mIn[5], line 24\u001b[0m\n\u001b[1;32m     19\u001b[0m     data \u001b[38;5;241m=\u001b[39m numpy\u001b[38;5;241m.\u001b[39marange(\u001b[38;5;241m10\u001b[39m, dtype \u001b[38;5;241m=\u001b[39m \u001b[38;5;124m\"\u001b[39m\u001b[38;5;124mi\u001b[39m\u001b[38;5;124m\"\u001b[39m)\n\u001b[1;32m     21\u001b[0m     \u001b[38;5;66;03m# -----------------------------------------------\u001b[39;00m\n\u001b[1;32m     22\u001b[0m     \u001b[38;5;66;03m# Envío bloqueante especificando el tipo de dato\u001b[39;00m\n\u001b[1;32m     23\u001b[0m     \u001b[38;5;66;03m# ------------------------------------------------\u001b[39;00m\n\u001b[0;32m---> 24\u001b[0m     \u001b[43mcomm\u001b[49m\u001b[38;5;241;43m.\u001b[39;49m\u001b[43mSend\u001b[49m\u001b[43m(\u001b[49m\u001b[43m[\u001b[49m\u001b[43mdata\u001b[49m\u001b[43m,\u001b[49m\u001b[43m \u001b[49m\u001b[43mMPI\u001b[49m\u001b[38;5;241;43m.\u001b[39;49m\u001b[43mINT\u001b[49m\u001b[43m]\u001b[49m\u001b[43m,\u001b[49m\u001b[43m \u001b[49m\u001b[43mdest\u001b[49m\u001b[43m \u001b[49m\u001b[38;5;241;43m=\u001b[39;49m\u001b[43m \u001b[49m\u001b[38;5;241;43m1\u001b[39;49m\u001b[43m,\u001b[49m\u001b[43m \u001b[49m\u001b[43mtag\u001b[49m\u001b[43m \u001b[49m\u001b[38;5;241;43m=\u001b[39;49m\u001b[43m \u001b[49m\u001b[38;5;241;43m77\u001b[39;49m\u001b[43m)\u001b[49m\n\u001b[1;32m     26\u001b[0m \u001b[38;5;28;01melif\u001b[39;00m rank \u001b[38;5;241m==\u001b[39m \u001b[38;5;241m1\u001b[39m:\n\u001b[1;32m     27\u001b[0m     data \u001b[38;5;241m=\u001b[39m numpy\u001b[38;5;241m.\u001b[39mempty(\u001b[38;5;241m10\u001b[39m, dtype \u001b[38;5;241m=\u001b[39m \u001b[38;5;124m\"\u001b[39m\u001b[38;5;124mi\u001b[39m\u001b[38;5;124m\"\u001b[39m)\n",
      "File \u001b[0;32mmpi4py/MPI/Comm.pyx:281\u001b[0m, in \u001b[0;36mmpi4py.MPI.Comm.Send\u001b[0;34m()\u001b[0m\n",
      "\u001b[0;31mException\u001b[0m: Invalid rank, error stack:\ninternal_Send(120): MPI_Send(buf=0x600003210270, count=10, MPI_INT, 1, 77, MPI_COMM_WORLD) failed\ninternal_Send(78).: Invalid rank has value 1 but must be nonnegative and less than 1"
     ]
    }
   ],
   "source": [
    "from mpi4py import MPI\n",
    "import numpy\n",
    "\n",
    "comm = MPI.COMM_WORLD\n",
    "rank = comm.Get_rank()\n",
    "\n",
    "# ===========================================\n",
    "# Se indica el tipo de datos explicitamente\n",
    "# ===========================================\n",
    "\n",
    "\n",
    "# ====================================================\n",
    "#               Ejemplo 1 USANDO ENTEROS\n",
    "# ====================================================\n",
    "if rank == 0:\n",
    "    # ------------------------------------\n",
    "    #  Arreglo de enteros del 0 al 9\n",
    "    # ------------------------------------\n",
    "    data = numpy.arange(10, dtype = \"i\")\n",
    "    \n",
    "    # -----------------------------------------------\n",
    "    # Envío bloqueante especificando el tipo de dato\n",
    "    # ------------------------------------------------\n",
    "    comm.Send([data, MPI.INT], dest = 1, tag = 77)\n",
    "    \n",
    "elif rank == 1:\n",
    "    data = numpy.empty(10, dtype = \"i\")\n",
    "    comm.Recv([data, MPI.INT], source = 0, tag = 77)\n",
    "    print(data)\n",
    "    \n",
    "# ------------------------------------------------------\n",
    "# Tambien se puede sin decir el tipo de dato pero deben\n",
    "# coincidir el tipo de arreglos a los extemos del mensaje\n",
    "# -------------------------------------------------------\n",
    "\n",
    "\n",
    "# =======================================================\n",
    "#               Ejemplo 2 USANDO FLOTANTES\n",
    "# =======================================================\n",
    "if rank == 0:\n",
    "    data = numpy.arange(10, dtype = numpy.float64)\n",
    "    comm.Send(data, dest = 1, tag = 13)\n",
    "    \n",
    "elif rank == 1:\n",
    "    data = numpy.empty(10, dtype = numpy.float64)\n",
    "    comm.Recv(data, source = 0, tag = 13)\n",
    "    print(data)\n",
    "    "
   ]
  },
  {
   "cell_type": "code",
   "execution_count": 19,
   "id": "3f5c1050",
   "metadata": {},
   "outputs": [
    {
     "ename": "Exception",
     "evalue": "Invalid root, error stack:\ninternal_Gather(140): MPI_Gather(sendbuf=0x7ff7b6d38db4, sendcount=1, MPI_INT, recvbuf=0x0, recvcount=1, MPI_INT, 1, MPI_COMM_WORLD) failed\ninternal_Gather(63).: Invalid root (value given was 1)",
     "output_type": "error",
     "traceback": [
      "\u001b[0;31m---------------------------------------------------------------------------\u001b[0m",
      "\u001b[0;31mException\u001b[0m                                 Traceback (most recent call last)",
      "Cell \u001b[0;32mIn[19], line 28\u001b[0m\n\u001b[1;32m     23\u001b[0m rr \u001b[38;5;241m=\u001b[39m comm\u001b[38;5;241m.\u001b[39mallgather(r_chunk)\n\u001b[1;32m     25\u001b[0m \u001b[38;5;66;03m# --------------------------------\u001b[39;00m\n\u001b[1;32m     26\u001b[0m \u001b[38;5;66;03m# Una matriz con todos los datos\u001b[39;00m\n\u001b[1;32m     27\u001b[0m \u001b[38;5;66;03m# --------------------------------\u001b[39;00m\n\u001b[0;32m---> 28\u001b[0m rrr \u001b[38;5;241m=\u001b[39m \u001b[43mcomm\u001b[49m\u001b[38;5;241;43m.\u001b[39;49m\u001b[43mgather\u001b[49m\u001b[43m(\u001b[49m\u001b[43mr_chunk\u001b[49m\u001b[43m,\u001b[49m\u001b[43m \u001b[49m\u001b[43mroot\u001b[49m\u001b[38;5;241;43m=\u001b[39;49m\u001b[38;5;241;43m1\u001b[39;49m\u001b[43m)\u001b[49m\n\u001b[1;32m     30\u001b[0m \u001b[38;5;28;01mif\u001b[39;00m rank \u001b[38;5;241m==\u001b[39m \u001b[38;5;241m0\u001b[39m:\n\u001b[1;32m     31\u001b[0m     \u001b[38;5;28mprint\u001b[39m(r)\n",
      "File \u001b[0;32mmpi4py/MPI/Comm.pyx:1578\u001b[0m, in \u001b[0;36mmpi4py.MPI.Comm.gather\u001b[0;34m()\u001b[0m\n",
      "File \u001b[0;32mmpi4py/MPI/msgpickle.pxi:773\u001b[0m, in \u001b[0;36mmpi4py.MPI.PyMPI_gather\u001b[0;34m()\u001b[0m\n",
      "File \u001b[0;32mmpi4py/MPI/msgpickle.pxi:774\u001b[0m, in \u001b[0;36mmpi4py.MPI.PyMPI_gather\u001b[0;34m()\u001b[0m\n",
      "\u001b[0;31mException\u001b[0m: Invalid root, error stack:\ninternal_Gather(140): MPI_Gather(sendbuf=0x7ff7b6d38db4, sendcount=1, MPI_INT, recvbuf=0x0, recvcount=1, MPI_INT, 1, MPI_COMM_WORLD) failed\ninternal_Gather(63).: Invalid root (value given was 1)"
     ]
    }
   ],
   "source": [
    "from mpi4py import MPI\n",
    "import math\n",
    "\n",
    "\n",
    "comm = MPI.COMM_WORLD\n",
    "size = comm.Get_size()\n",
    "rank = comm.Get_rank()\n",
    "\n",
    "n = 40\n",
    "x = range(n)\n",
    "m = int(math.ceil(float(len(x)) / size))\n",
    "x_chunk = list(x[rank*m: (rank+1)*m])\n",
    "r_chunk = list(map(math.sqrt, x_chunk))\n",
    "\n",
    "# ----------------------------------\n",
    "# Una sola lista en todos los datos\n",
    "# ----------------------------------\n",
    "r = comm.allreduce(r_chunk)\n",
    "\n",
    "# -------------------------------\n",
    "# una matriz con todos los datos\n",
    "# -------------------------------\n",
    "rr = comm.allgather(r_chunk)\n",
    "\n",
    "# --------------------------------\n",
    "# Una matriz con todos los datos\n",
    "# --------------------------------\n",
    "rrr = comm.gather(r_chunk, root=1)\n",
    "\n",
    "if rank == 0:\n",
    "    print(r)\n",
    "    print(rr)\n",
    "    print(rrr)\n",
    "    \n",
    "if rank == 1:\n",
    "    print(rrr)"
   ]
  },
  {
   "cell_type": "code",
   "execution_count": null,
   "id": "6115affb",
   "metadata": {},
   "outputs": [],
   "source": []
  }
 ],
 "metadata": {
  "kernelspec": {
   "display_name": "Python 3 (ipykernel)",
   "language": "python",
   "name": "python3"
  },
  "language_info": {
   "codemirror_mode": {
    "name": "ipython",
    "version": 3
   },
   "file_extension": ".py",
   "mimetype": "text/x-python",
   "name": "python",
   "nbconvert_exporter": "python",
   "pygments_lexer": "ipython3",
   "version": "3.10.9"
  }
 },
 "nbformat": 4,
 "nbformat_minor": 5
}
